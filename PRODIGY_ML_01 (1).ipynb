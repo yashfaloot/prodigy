{
 "cells": [
  {
   "cell_type": "code",
   "execution_count": null,
   "id": "419bb828",
   "metadata": {},
   "outputs": [],
   "source": [
    "import pandas as pd\n",
    "import numpy as np\n",
    "from sklearn.model_selection import train_test_split\n",
    "from sklearn.linear_model import LinearRegression\n",
    "from sklearn.metrics import mean_squared_error\n",
    "import matplotlib.pyplot as plt\n",
    "\n",
    "# loading the data\n",
    "\n",
    "data= pd.read_csv('train.csv')\n",
    "print (data.head())\n",
    "features=['GrLivArea','BedroomAbvGr','FullBath']\n",
    "target='SalePrice'\n",
    "x=data[features]\n",
    "y=data[target]\n",
    "\n",
    "# removing any missing value\n",
    "\n",
    "x=x.dropna()\n",
    "y=y[x.index]\n",
    "\n",
    "# splitting data into training and testing\n",
    "\n",
    "x_train,x_test,y_train,y_test=train_test_split(x,y,test_size=0.5,random_state=44)\n",
    "\n",
    "# training of our model\n",
    "\n",
    "model=LinearRegression()\n",
    "model.fit(x_train,y_train)\n",
    "\n",
    "#making predictions\n",
    "\n",
    "y_pred=model.predict(x_test)\n",
    "\n",
    "#calculating and printing mean square error\n",
    "\n",
    "mse=mean_squared_error(y_test,y_pred)\n",
    "print(f'Mean Square Error: {mse}')\n",
    "\n",
    "# example prediction\n",
    "\n",
    "new_house_data={\n",
    "    'GrLivArea':[1200],\n",
    "    'BedroomAbvGr':[5],\n",
    "    'FullBath': [3]\n",
    "}\n",
    "new_house=pd.DataFrame(new_house_data)\n",
    "predicted_price=model.predict(new_house)\n",
    "print(f'Predicted price for the new house: {predicted_price[0]}')\n"
   ]
  },
  {
   "cell_type": "code",
   "execution_count": null,
   "id": "c9500a72",
   "metadata": {},
   "outputs": [],
   "source": []
  },
  {
   "cell_type": "code",
   "execution_count": null,
   "id": "a1b14105",
   "metadata": {},
   "outputs": [],
   "source": []
  }
 ],
 "metadata": {
  "kernelspec": {
   "display_name": "Python 3 (ipykernel)",
   "language": "python",
   "name": "python3"
  },
  "language_info": {
   "codemirror_mode": {
    "name": "ipython",
    "version": 3
   },
   "file_extension": ".py",
   "mimetype": "text/x-python",
   "name": "python",
   "nbconvert_exporter": "python",
   "pygments_lexer": "ipython3",
   "version": "3.11.5"
  }
 },
 "nbformat": 4,
 "nbformat_minor": 5
}
